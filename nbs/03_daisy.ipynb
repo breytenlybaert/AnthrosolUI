{
 "cells": [
  {
   "cell_type": "markdown",
   "id": "5bfbea37",
   "metadata": {},
   "source": [
    "## Daisy UI\n",
    "\n",
    "> Helpers and components for DaisyUI style stuff"
   ]
  },
  {
   "cell_type": "code",
   "execution_count": 4,
   "id": "7e3b2231",
   "metadata": {},
   "outputs": [],
   "source": [
    "#| default_exp daisy"
   ]
  },
  {
   "cell_type": "code",
   "execution_count": 5,
   "id": "d623c13c",
   "metadata": {},
   "outputs": [
    {
     "ename": "ModuleNotFoundError",
     "evalue": "No module named 'fasthtml'",
     "output_type": "error",
     "traceback": [
      "\u001b[0;31m---------------------------------------------------------------------------\u001b[0m",
      "\u001b[0;31mModuleNotFoundError\u001b[0m                       Traceback (most recent call last)",
      "Cell \u001b[0;32mIn[5], line 2\u001b[0m\n\u001b[1;32m      1\u001b[0m \u001b[38;5;66;03m#| export\u001b[39;00m\n\u001b[0;32m----> 2\u001b[0m \u001b[38;5;28;01mimport\u001b[39;00m \u001b[38;5;21;01mfasthtml\u001b[39;00m\u001b[38;5;21;01m.\u001b[39;00m\u001b[38;5;21;01mcommon\u001b[39;00m \u001b[38;5;28;01mas\u001b[39;00m \u001b[38;5;21;01mfh\u001b[39;00m\n\u001b[1;32m      3\u001b[0m \u001b[38;5;28;01mfrom\u001b[39;00m \u001b[38;5;21;01mmonsterui\u001b[39;00m\u001b[38;5;21;01m.\u001b[39;00m\u001b[38;5;21;01mfoundations\u001b[39;00m \u001b[38;5;28;01mimport\u001b[39;00m \u001b[38;5;241m*\u001b[39m\n\u001b[1;32m      4\u001b[0m \u001b[38;5;28;01mfrom\u001b[39;00m \u001b[38;5;21;01mfasthtml\u001b[39;00m\u001b[38;5;21;01m.\u001b[39;00m\u001b[38;5;21;01mcommon\u001b[39;00m \u001b[38;5;28;01mimport\u001b[39;00m Div, Span, FT\n",
      "\u001b[0;31mModuleNotFoundError\u001b[0m: No module named 'fasthtml'"
     ]
    }
   ],
   "source": [
    "#| export\n",
    "import fasthtml.common as fh\n",
    "from monsterui.foundations import *\n",
    "from fasthtml.common import Div, Span, FT\n",
    "from fasthtml.svg import *\n",
    "from enum import auto\n",
    "from fastcore.all import *\n"
   ]
  },
  {
   "cell_type": "markdown",
   "id": "1c836adc",
   "metadata": {},
   "source": [
    "## Alerts"
   ]
  },
  {
   "cell_type": "code",
   "execution_count": 6,
   "id": "60694dc8",
   "metadata": {},
   "outputs": [
    {
     "ename": "NameError",
     "evalue": "name 'VEnum' is not defined",
     "output_type": "error",
     "traceback": [
      "\u001b[0;31m---------------------------------------------------------------------------\u001b[0m",
      "\u001b[0;31mNameError\u001b[0m                                 Traceback (most recent call last)",
      "Cell \u001b[0;32mIn[6], line 2\u001b[0m\n\u001b[1;32m      1\u001b[0m \u001b[38;5;66;03m#| export\u001b[39;00m\n\u001b[0;32m----> 2\u001b[0m \u001b[38;5;28;01mclass\u001b[39;00m \u001b[38;5;21;01mAlertT\u001b[39;00m(\u001b[43mVEnum\u001b[49m):\n\u001b[1;32m      3\u001b[0m     \u001b[38;5;124m\"\u001b[39m\u001b[38;5;124mAlert styles from DaisyUI\u001b[39m\u001b[38;5;124m\"\u001b[39m\n\u001b[1;32m      4\u001b[0m     \u001b[38;5;28;01mdef\u001b[39;00m \u001b[38;5;21m_generate_next_value_\u001b[39m(name, start, count, last_values): \u001b[38;5;28;01mreturn\u001b[39;00m \u001b[38;5;124mf\u001b[39m\u001b[38;5;124m\"\u001b[39m\u001b[38;5;124malert-\u001b[39m\u001b[38;5;132;01m{\u001b[39;00mname\u001b[38;5;132;01m}\u001b[39;00m\u001b[38;5;124m\"\u001b[39m\n",
      "\u001b[0;31mNameError\u001b[0m: name 'VEnum' is not defined"
     ]
    }
   ],
   "source": [
    "#| export\n",
    "class AlertT(VEnum):\n",
    "    \"Alert styles from DaisyUI\"\n",
    "    def _generate_next_value_(name, start, count, last_values): return f\"alert-{name}\"\n",
    "    info = auto()\n",
    "    success = auto()\n",
    "    warning = auto()\n",
    "    error = auto()"
   ]
  },
  {
   "cell_type": "code",
   "execution_count": null,
   "id": "b2109995",
   "metadata": {},
   "outputs": [],
   "source": [
    "#| export\n",
    "def Alert(*c, # Content for Alert (often text and/or icon)\n",
    "          cls='',  # Class for the alert (often an `AlertT` option)\n",
    "          **kwargs # Additional arguments for outer Div\n",
    "         )->FT: # Div(Span(...), cls='alert', role='alert')\n",
    "    \"Alert informs users about important events.\"\n",
    "    return Div(Span(*c), cls=('alert', stringify(cls)), role='alert', **kwargs)"
   ]
  },
  {
   "cell_type": "markdown",
   "id": "d9c6a3c1",
   "metadata": {},
   "source": [
    "The simplest alert is a div wrapped with a span:"
   ]
  },
  {
   "cell_type": "code",
   "execution_count": null,
   "id": "4b454c4c",
   "metadata": {},
   "outputs": [],
   "source": [
    "Alert(\"Hi\")"
   ]
  },
  {
   "cell_type": "markdown",
   "id": "61fcb532",
   "metadata": {},
   "source": [
    "Alert colors are defined by the alert styles:"
   ]
  },
  {
   "cell_type": "code",
   "execution_count": null,
   "id": "5d82437b",
   "metadata": {},
   "outputs": [],
   "source": [
    "Alert(\"Hi\", cls=AlertT.info)"
   ]
  },
  {
   "cell_type": "markdown",
   "id": "b7679070",
   "metadata": {},
   "source": [
    "## Steps"
   ]
  },
  {
   "cell_type": "code",
   "execution_count": null,
   "id": "1f043eaf",
   "metadata": {},
   "outputs": [],
   "source": [
    "#| export\n",
    "class StepsT(VEnum):\n",
    "    \"Options for Steps\"\n",
    "    def _generate_next_value_(name, start, count, last_values): return f'steps-{name}'\n",
    "    vertical = auto()\n",
    "    horizonal = auto()"
   ]
  },
  {
   "cell_type": "code",
   "execution_count": null,
   "id": "c37ed9f9",
   "metadata": {},
   "outputs": [],
   "source": [
    "#| export \n",
    "class StepT(VEnum):\n",
    "    'Step styles for LiStep'\n",
    "    def _generate_next_value_(name, start, count, last_values): return f'step-{name}'\n",
    "    primary = auto()\n",
    "    secondary = auto()\n",
    "    accent = auto() \n",
    "    info = auto()\n",
    "    success = auto()\n",
    "    warning = auto()\n",
    "    error = auto()\n",
    "    neutral = auto()"
   ]
  },
  {
   "cell_type": "code",
   "execution_count": null,
   "id": "21a7d741",
   "metadata": {},
   "outputs": [],
   "source": [
    "#| export\n",
    "def Steps(*li, # Each `Li` represent a step (generally use `LiStep`)\n",
    "          cls='', # class for Steps (generally a `StepsT` option)\n",
    "          **kwargs # Additional args for outer wrapper (`Ul` component)\n",
    "         )->FT: # Ul(..., cls='steps')\n",
    "    \"Creates a steps container\"\n",
    "    return Ul(*li, cls=('steps',stringify(cls)), **kwargs)\n",
    "\n",
    "def LiStep(*c, # Description for Step that goes next to bubble (often text)\n",
    "           cls='', # Additional step classes (generally a `StepT` component)\n",
    "           data_content=None, # Content for inside bubble (defaults to number, often an emoji)\n",
    "           **kwargs # Aditional arguments for the step (`Li` component)\n",
    "          )->FT: # Li(..., cls='step')\n",
    "    \"Creates a step list item\"\n",
    "    return Li(*c, cls=('step', stringify(cls)), data_content=data_content, **kwargs)"
   ]
  },
  {
   "cell_type": "markdown",
   "id": "28b13d70",
   "metadata": {},
   "source": [
    "To create a list of steps in a process:"
   ]
  },
  {
   "cell_type": "code",
   "execution_count": null,
   "id": "6b89e2ef",
   "metadata": {},
   "outputs": [],
   "source": [
    "Steps(\n",
    "    *[LiStep(o, cls=\"primary\") for o in (\"Register\", \"Choose Plan\")],\n",
    "    *[LiStep(o) for o in (\"Purchase\", \"Receive Product\")]\n",
    ")"
   ]
  },
  {
   "cell_type": "markdown",
   "id": "ff7822be",
   "metadata": {},
   "source": [
    "# Loading"
   ]
  },
  {
   "cell_type": "code",
   "execution_count": null,
   "id": "5e8838cf",
   "metadata": {},
   "outputs": [],
   "source": [
    "#| export\n",
    "class LoadingT(VEnum):\n",
    "    def _generate_next_value_(name, start, count, last_values): return f'loading-{name}'\n",
    "    spinner = auto()\n",
    "    dots = auto()\n",
    "    ring = auto()\n",
    "    ball = auto()\n",
    "    bars = auto()\n",
    "    infinity = auto()\n",
    "    \n",
    "    xs = 'loading-xsmall'\n",
    "    sm = 'loading-small'\n",
    "    md = 'loading-medium'\n",
    "    lg = 'loading-large'"
   ]
  },
  {
   "cell_type": "code",
   "execution_count": null,
   "id": "a7902bff",
   "metadata": {},
   "outputs": [],
   "source": [
    "#| export\n",
    "def Loading(cls=(LoadingT.bars, LoadingT.lg), # Classes for indicator (generally `LoadingT` options)\n",
    "            htmx_indicator=False, # Add htmx-indicator class\n",
    "            **kwargs # additional args for outer conainter (`Span`)\n",
    "           )->FT: # Span(cls=...)\n",
    "    \"Creates a loading animation component\"\n",
    "    classes = ['loading', stringify(cls)]\n",
    "    if htmx_indicator: classes.append('htmx-indicator')\n",
    "    return Span(cls=classes, **kwargs)"
   ]
  },
  {
   "cell_type": "markdown",
   "id": "a7680d3b",
   "metadata": {},
   "source": [
    "## Toasts"
   ]
  },
  {
   "cell_type": "code",
   "execution_count": null,
   "id": "a2c99d2e",
   "metadata": {},
   "outputs": [],
   "source": [
    "#| export\n",
    "class ToastHT(VEnum):\n",
    "    \"Horizontal position for Toast\"\n",
    "    def _generate_next_value_(name, start, count, last_values): return f'toast-{name}'\n",
    "    start = auto()\n",
    "    center = auto()\n",
    "    end = auto()\n",
    "\n",
    "class ToastVT(VEnum):\n",
    "    \"Vertical position for Toast\"\n",
    "    def _generate_next_value_(name, start, count, last_values): return f'toast-{name}'\n",
    "    top = auto()\n",
    "    middle = auto()\n",
    "    bottom = auto()"
   ]
  },
  {
   "cell_type": "code",
   "execution_count": null,
   "id": "c57bac21",
   "metadata": {},
   "outputs": [],
   "source": [
    "#| export\n",
    "def Toast(*c, # Content for toast (often test)\n",
    "          cls='', # Classes for toast (often `ToastHT` and `ToastVT` options)\n",
    "          alert_cls='', # classes for altert (often `AlertT` options)\n",
    "          **kwargs # Additional args for outer container (`Div` tag)\n",
    "         )->FT: # Div(Alert(...), cls='toast')\n",
    "    \"Toasts are stacked announcements, positioned on the corner of page.\"\n",
    "    a = Alert(*c, cls=alert_cls)\n",
    "    return Div(a, cls=('toast', stringify(cls)), **kwargs)"
   ]
  },
  {
   "cell_type": "markdown",
   "id": "2ef57fd9",
   "metadata": {},
   "source": [
    "To define a toast with a particular location, add horizontal or vertical toast type classes:"
   ]
  },
  {
   "cell_type": "code",
   "execution_count": null,
   "id": "3747ef4b",
   "metadata": {},
   "outputs": [],
   "source": [
    "Toast(\"New message arrived.\", cls=(ToastHT.start, ToastVT.middle))"
   ]
  },
  {
   "cell_type": "markdown",
   "id": "cdbac191",
   "metadata": {},
   "source": [
    "To define toast colors, set the class of the alert wrapped by the toast:"
   ]
  },
  {
   "cell_type": "code",
   "execution_count": null,
   "id": "824df9df",
   "metadata": {},
   "outputs": [],
   "source": [
    "Toast(\"New message arrived.\", alert_cls=AlertT.info)"
   ]
  },
  {
   "cell_type": "code",
   "execution_count": 3,
   "id": "1523f5e2",
   "metadata": {},
   "outputs": [
    {
     "ename": "ModuleNotFoundError",
     "evalue": "No module named 'nbdev'",
     "output_type": "error",
     "traceback": [
      "\u001b[0;31m---------------------------------------------------------------------------\u001b[0m",
      "\u001b[0;31mModuleNotFoundError\u001b[0m                       Traceback (most recent call last)",
      "Cell \u001b[0;32mIn[3], line 2\u001b[0m\n\u001b[1;32m      1\u001b[0m \u001b[38;5;66;03m#| hide\u001b[39;00m\n\u001b[0;32m----> 2\u001b[0m \u001b[38;5;28;01mimport\u001b[39;00m \u001b[38;5;21;01mnbdev\u001b[39;00m; nbdev\u001b[38;5;241m.\u001b[39mnbdev_export()\n",
      "\u001b[0;31mModuleNotFoundError\u001b[0m: No module named 'nbdev'"
     ]
    }
   ],
   "source": [
    "#| hide\n",
    "import nbdev; nbdev.nbdev_export()"
   ]
  },
  {
   "cell_type": "code",
   "execution_count": null,
   "id": "3d707aec",
   "metadata": {},
   "outputs": [],
   "source": []
  }
 ],
 "metadata": {
  "kernelspec": {
   "display_name": "Python 3 (ipykernel)",
   "language": "python",
   "name": "python3"
  },
  "language_info": {
   "codemirror_mode": {
    "name": "ipython",
    "version": 3
   },
   "file_extension": ".py",
   "mimetype": "text/x-python",
   "name": "python",
   "nbconvert_exporter": "python",
   "pygments_lexer": "ipython3",
   "version": "3.13.2"
  }
 },
 "nbformat": 4,
 "nbformat_minor": 5
}
