{
 "cells": [
  {
   "cell_type": "markdown",
   "metadata": {},
   "source": [
    "# Streaming\n",
    "\n",
    "> Components for streaming content from server-sent events (SSE)"
   ]
  },
  {
   "cell_type": "code",
   "execution_count": 1,
   "metadata": {},
   "outputs": [],
   "source": [
    "#| default_exp streaming"
   ]
  },
  {
   "cell_type": "markdown",
   "metadata": {},
   "source": [
    "## Imports"
   ]
  },
  {
   "cell_type": "code",
   "execution_count": 2,
   "metadata": {},
   "outputs": [],
   "source": [
    "#| export\n",
    "import fasthtml.common as fh\n",
    "from anthrosolui.foundations import *\n",
    "from fasthtml.common import Div, Script, FT"
   ]
  },
  {
   "cell_type": "code",
   "execution_count": 3,
   "metadata": {},
   "outputs": [],
   "source": [
    "from fasthtml.jupyter import *\n",
    "from nbdev.showdoc import *\n",
    "from functools import partial"
   ]
  },
  {
   "cell_type": "markdown",
   "metadata": {},
   "source": [
    "## Streaming Container\n",
    "\n",
    "This component creates a container that will display streamed content from an SSE endpoint."
   ]
  },
  {
   "cell_type": "code",
   "execution_count": 5,
   "metadata": {},
   "outputs": [],
   "source": [
    "#| export\n",
    "def StreamingContainer(\n",
    "    stream_url: str,           # URL endpoint that provides the SSE stream\n",
    "    initial_content: str = \"\", # Initial content to display before streaming begins\n",
    "    cls: str = \"\",             # Additional classes for the container\n",
    "    id: str = None,            # Optional ID for the container (auto-generated if None)\n",
    "    **kwargs                   # Additional arguments for the Div container\n",
    ") -> FT:\n",
    "    \"\"\"\n",
    "    Creates a container that displays streamed content from a server-sent events (SSE) endpoint.\n",
    "    \n",
    "    Args:\n",
    "        stream_url: URL endpoint that provides the SSE stream\n",
    "        initial_content: Initial content to display before streaming begins\n",
    "        cls: Additional classes for the container\n",
    "        id: Optional ID for the container (auto-generated if None)\n",
    "        **kwargs: Additional arguments for the Div container\n",
    "    \n",
    "    Returns:\n",
    "        FT: A Div component that will display the streamed content\n",
    "    \"\"\"\n",
    "    if id is None:\n",
    "        id = fh.unqid()\n",
    "    \n",
    "    return Div(\n",
    "        initial_content,\n",
    "        id=id,\n",
    "        cls=stringify(cls),\n",
    "        **{\"data-stream-url\": stream_url},\n",
    "        **kwargs\n",
    "    )"
   ]
  },
  {
   "cell_type": "markdown",
   "metadata": {},
   "source": [
    "## Usage Example\n",
    "\n",
    "Here's an example of how to use the streaming container in a FastHTML application:"
   ]
  },
  {
   "cell_type": "code",
   "execution_count": null,
   "metadata": {},
   "outputs": [],
   "source": [
    "# Example (not run):\n",
    "\"\"\"\n",
    "from anthrosolui.all import Theme, fast_app, stream_script, StreamingContainer\n",
    "from fasthtml.common import Div\n",
    "\n",
    "\n",
    "hdrs = Theme.blue.headers(streaming=True) \n",
    "\n",
    "app, rt = fast_app(hdrs=hdrs)\n",
    "\n",
    "@rt(\"/stream-demo\")\n",
    "def get():\n",
    "    # Endpoint that provides the SSE stream\n",
    "    stream_url = \"/api/stream?message=Hello&_=123456789\"\n",
    "    \n",
    "    return Div(\n",
    "        Div(\"Streaming Demo\", cls=\"text-xl font-bold mb-4\"),\n",
    "        StreamingContainer(\n",
    "            stream_url=stream_url,\n",
    "            initial_content=\"Waiting for response...\",\n",
    "            cls=\"p-4 border rounded bg-gray-50\"\n",
    "        )\n",
    "    )\n",
    "\"\"\""
   ]
  },
  {
   "cell_type": "markdown",
   "metadata": {},
   "source": [
    "For the server-side part, here's an example of how to create an SSE stream endpoint:"
   ]
  },
  {
   "cell_type": "code",
   "execution_count": null,
   "metadata": {},
   "outputs": [],
   "source": [
    "# Server-side example (not run):\n",
    "\"\"\"\n",
    "from starlette.responses import EventSourceResponse\n",
    "\n",
    "def sse_message(content, event=\"message\"):\n",
    "    return f\"event: {event}\\ndata: {content}\\n\\n\"\n",
    "\n",
    "@rt(\"/api/stream\")\n",
    "async def get(message: str, req):\n",
    "    async def stream_generator():\n",
    "        # Example: generate 10 chunks with 0.5s delay between them\n",
    "        for i in range(10):\n",
    "            if await req.is_disconnected():\n",
    "                break\n",
    "            await asyncio.sleep(0.5)\n",
    "            yield sse_message(f\"Chunk {i+1}: {message}\")\n",
    "        yield sse_message(\"done\", event=\"done\")  # Signal end of stream\n",
    "    \n",
    "    return EventSourceResponse(stream_generator())\n",
    "\"\"\""
   ]
  },
  {
   "cell_type": "markdown",
   "metadata": {},
   "source": [
    "## Exports"
   ]
  },
  {
   "cell_type": "code",
   "execution_count": 7,
   "metadata": {},
   "outputs": [],
   "source": [
    "#| hide\n",
    "import nbdev; nbdev.nbdev_export()"
   ]
  },
  {
   "cell_type": "code",
   "execution_count": null,
   "metadata": {},
   "outputs": [],
   "source": []
  }
 ],
 "metadata": {
  "kernelspec": {
   "display_name": "Python 3 (ipykernel)",
   "language": "python",
   "name": "python3"
  },
  "language_info": {
   "codemirror_mode": {
    "name": "ipython",
    "version": 3
   },
   "file_extension": ".py",
   "mimetype": "text/x-python",
   "name": "python",
   "nbconvert_exporter": "python",
   "pygments_lexer": "ipython3",
   "version": "3.13.2"
  }
 },
 "nbformat": 4,
 "nbformat_minor": 4
}
