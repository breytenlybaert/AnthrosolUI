{
 "cells": [
  {
   "cell_type": "markdown",
   "metadata": {},
   "source": [
    "## Core\n",
    "\n",
    "> The building blocks to the UI"
   ]
  },
  {
   "cell_type": "code",
   "execution_count": null,
   "metadata": {},
   "outputs": [],
   "source": [
    "#| default_exp core"
   ]
  },
  {
   "cell_type": "markdown",
   "metadata": {},
   "source": [
    "## Imports"
   ]
  },
  {
   "cell_type": "code",
   "execution_count": null,
   "metadata": {},
   "outputs": [],
   "source": [
    "#| export\n",
    "import fasthtml.common as fh\n",
    "from anthrosolui.foundations import *\n",
    "from fasthtml.common import FastHTML, fast_app\n",
    "from enum import Enum, auto\n",
    "from fastcore.all import *\n",
    "import httpx\n",
    "from pathlib import Path"
   ]
  },
  {
   "cell_type": "code",
   "execution_count": null,
   "metadata": {},
   "outputs": [],
   "source": [
    "from fasthtml.jupyter import *\n",
    "from functools import partial"
   ]
  },
  {
   "cell_type": "code",
   "execution_count": null,
   "metadata": {},
   "outputs": [],
   "source": [
    "from nbdev.showdoc import *"
   ]
  },
  {
   "cell_type": "markdown",
   "metadata": {},
   "source": [
    "## App"
   ]
  },
  {
   "cell_type": "code",
   "execution_count": null,
   "metadata": {},
   "outputs": [],
   "source": [
    "#| export\n",
    "@delegates(fh.fast_app, but=['pico'])\n",
    "def fast_app(*args, pico=False, **kwargs):\n",
    "    \"Create a FastHTML or FastHTMLWithLiveReload app with `bg-background text-foreground` to bodykw for frankenui themes\"\n",
    "    if 'bodykw' not in kwargs: kwargs['bodykw'] = {}\n",
    "    if 'class' not in kwargs['bodykw']: kwargs['bodykw']['class'] = ''\n",
    "    kwargs['bodykw']['class'] = stringify((kwargs['bodykw']['class'],'bg-background text-foreground'))\n",
    "    return fh.fast_app(*args, pico=pico, **kwargs)"
   ]
  },
  {
   "cell_type": "code",
   "execution_count": null,
   "metadata": {},
   "outputs": [],
   "source": [
    "assert fast_app(bodykw={'something':'test'})[0].bodykw == {'something': 'test', 'class': ' bg-background text-foreground'}"
   ]
  },
  {
   "cell_type": "code",
   "execution_count": null,
   "metadata": {},
   "outputs": [],
   "source": [
    "#| export\n",
    "@delegates(fh.FastHTML, but=['pico'])\n",
    "def FastHTML(*args, pico=False, **kwargs):\n",
    "    \"Create a FastHTML app and adds `bg-background text-foreground` to bodykw for frankenui themes\"\n",
    "    if 'bodykw' not in kwargs: kwargs['bodykw'] = {}\n",
    "    if 'class' not in kwargs['bodykw']: kwargs['bodykw']['class'] = ''\n",
    "    kwargs['bodykw']['class'] = stringify((kwargs['bodykw']['class'],'bg-background text-foreground'))\n",
    "    bodykw = kwargs.pop('bodykw',{})\n",
    "    return fh.FastHTML(*args, pico=pico, **bodykw, **kwargs)"
   ]
  },
  {
   "cell_type": "code",
   "execution_count": null,
   "metadata": {},
   "outputs": [
    {
     "data": {
      "text/plain": [
       "{'pico': False, 'something': 'test', 'class': ' bg-background text-foreground'}"
      ]
     },
     "execution_count": null,
     "metadata": {},
     "output_type": "execute_result"
    }
   ],
   "source": [
    "FastHTML(bodykw={'something':'test'}).bodykw"
   ]
  },
  {
   "cell_type": "markdown",
   "metadata": {},
   "source": [
    "## Theme / Headers"
   ]
  },
  {
   "cell_type": "markdown",
   "metadata": {},
   "source": [
    "You can select a theme color to and get all the headers."
   ]
  },
  {
   "cell_type": "code",
   "execution_count": null,
   "metadata": {},
   "outputs": [],
   "source": [
    "#| export\n",
    "class ThemeRadii(VEnum):\n",
    "    none = 'uk-radii-none'\n",
    "    sm = 'uk-radii-sm'\n",
    "    md = 'uk-radii-md'\n",
    "    lg = 'uk-radii-lg'\n",
    "\n",
    "class ThemeShadows:\n",
    "    none = 'uk-shadows-none'\n",
    "    sm = 'uk-shadows-sm'\n",
    "    md = 'uk-shadows-md'\n",
    "    lg = 'uk-shadows-lg'\n",
    "\n",
    "class ThemeFont:\n",
    "    sm = 'uk-font-sm'\n",
    "    default = 'uk-font-base'"
   ]
  },
  {
   "cell_type": "code",
   "execution_count": null,
   "metadata": {},
   "outputs": [],
   "source": [
    "#| export\n",
    "def _headers_theme(color, mode='auto', radii=ThemeRadii.sm, shadows=ThemeShadows.sm, font=ThemeFont.sm):\n",
    "    franken_init = '''\n",
    "          const __FRANKEN__ = JSON.parse(localStorage.getItem(\"__FRANKEN__\") || \"{}\");\n",
    "    '''\n",
    "    \n",
    "    mode_script = {\n",
    "        'auto': f'''\n",
    "          {franken_init}\n",
    "          if (\n",
    "            __FRANKEN__.mode === \"dark\" ||\n",
    "            (!__FRANKEN__.mode &&\n",
    "              window.matchMedia(\"(prefers-color-scheme: dark)\").matches)\n",
    "          ) {{\n",
    "            htmlElement.classList.add(\"dark\");\n",
    "          }} else {{\n",
    "            htmlElement.classList.remove(\"dark\");\n",
    "          }}\n",
    "        ''',\n",
    "        'light': f'{franken_init}\\nhtmlElement.classList.remove(\"dark\");',\n",
    "        'dark': f'{franken_init}\\nhtmlElement.classList.add(\"dark\");'\n",
    "    }\n",
    "    \n",
    "    return fh.Script(f'''\n",
    "        const htmlElement = document.documentElement;\n",
    "        {mode_script[mode]}\n",
    "          htmlElement.classList.add(\"uk-theme-{color}\");\n",
    "          htmlElement.classList.add(__FRANKEN__.theme || \"uk-theme-{color}\");\n",
    "          htmlElement.classList.add(__FRANKEN__.radii || \"{radii}\");\n",
    "          htmlElement.classList.add(__FRANKEN__.shadows || \"{shadows}\");\n",
    "          htmlElement.classList.add(__FRANKEN__.font || \"{font}\");\n",
    "    ''')"
   ]
  },
  {
   "cell_type": "code",
   "execution_count": null,
   "metadata": {},
   "outputs": [],
   "source": [
    "#| export\n",
    "HEADER_URLS = {\n",
    "        'franken_css': \"https://unpkg.com/franken-ui@2.0.0-internal.45/dist/css/core.min.css\",\n",
    "        'franken_js_core': \"https://unpkg.com/franken-ui@2.0.0-internal.45/dist/js/core.iife.js\",\n",
    "        'franken_icons': \"https://unpkg.com/franken-ui@2.0.0-internal.45/dist/js/icon.iife.js\",\n",
    "        'tailwind': \"https://cdn.tailwindcss.com\",\n",
    "        'daisyui': \"https://cdn.jsdelivr.net/npm/daisyui@4.12.22/dist/full.min.css\",\n",
    "        'highlight_js': \"https://cdn.jsdelivr.net/gh/highlightjs/cdn-release@11.9.0/build/highlight.min.js\",\n",
    "        'highlight_python': \"https://cdn.jsdelivr.net/gh/highlightjs/cdn-release@11.9.0/build/languages/python.min.js\",\n",
    "        'highlight_light_css': \"https://cdn.jsdelivr.net/gh/highlightjs/cdn-release@11.9.0/build/styles/atom-one-light.css\",\n",
    "        'highlight_dark_css': \"https://cdn.jsdelivr.net/gh/highlightjs/cdn-release@11.9.0/build/styles/atom-one-dark.css\",\n",
    "        'highlight_copy': \"https://cdn.jsdelivr.net/gh/arronhunt/highlightjs-copy/dist/highlightjs-copy.min.js\",\n",
    "        'highlight_copy_css': \"https://cdn.jsdelivr.net/gh/arronhunt/highlightjs-copy/dist/highlightjs-copy.min.css\",\n",
    "}\n",
    "\n",
    "def _download_resource(url, static_dir):\n",
    "    \"Download a single resource and return its local path\"\n",
    "    static = Path(static_dir)\n",
    "    fname = static/f\"{url[0]}.{'js' if 'js' in url[1] else 'css'}\"\n",
    "    content = httpx.get(url[1], follow_redirects=True).content\n",
    "    fname.write_bytes(content)\n",
    "    return (url[0], f\"/{static_dir}/{fname.name}\")"
   ]
  },
  {
   "cell_type": "code",
   "execution_count": null,
   "metadata": {},
   "outputs": [],
   "source": [
    "#| export\n",
    "daisy_styles = Style(\"\"\"\n",
    ":root {\n",
    "  --b1: from hsl(var(--background)) l c h;\n",
    "  --bc: from hsl(var(--foreground)) l c h;\n",
    "  --m: from hsl(var(--muted)) l c h;\n",
    "  --mc: from hsl(var(--muted-foreground)) l c h;\n",
    "  --po: from hsl(var(--popover)) l c h;\n",
    "  --poc: from hsl(var(--popover-foreground)) l c h;\n",
    "  --b2: from hsl(var(--card)) l c h;\n",
    "  --b2c: from hsl(var(--card-foreground)) l c h;\n",
    "  --br: from hsl(var(--border)) l c h;\n",
    "  --in: from hsl(var(--input)) l c h;\n",
    "  --p: from hsl(var(--primary)) l c h;\n",
    "  --pc: from hsl(var(--primary-foreground)) l c h;\n",
    "  --s: from hsl(var(--secondary)) l c h;\n",
    "  --sc: from hsl(var(--secondary-foreground)) l c h;\n",
    "  --a: from hsl(var(--accent)) l c h;\n",
    "  --ac: from hsl(var(--accent-foreground)) l c h;\n",
    "  --er: from hsl(var(--destructive)) l c h;\n",
    "  --erc: from hsl(var(--destructive-foreground)) l c h;\n",
    "  --b3: from hsl(var(--ring)) l c h;\n",
    "  --ch1: from hsl(var(--chart-1)) l c h;\n",
    "  --ch2: from hsl(var(--chart-2)) l c h;\n",
    "  --ch3: from hsl(var(--chart-3)) l c h;\n",
    "  --ch4: from hsl(var(--chart-4)) l c h;\n",
    "  --ch5: from hsl(var(--chart-5)) l c h;\n",
    "  --rd: var(--radius);\n",
    "}\n",
    "\"\"\")\n"
   ]
  },
  {
   "cell_type": "code",
   "execution_count": null,
   "metadata": {},
   "outputs": [],
   "source": [
    "#| export\n",
    "scrollspy_style= Style('''\n",
    ".monster-navbar.navbar-bold a {\n",
    "    transition: all 0.3s cubic-bezier(0.4, 0, 0.2, 1);\n",
    "}\n",
    ".monster-navbar.navbar-bold a.uk-active {\n",
    "    transform: scale(1.15) ;\n",
    "    font-weight: bold;\n",
    "    text-shadow: 0 0 12px rgba(var(--p-rgb), 0.4);\n",
    "    letter-spacing: 0.02em;\n",
    "    color: hsl(var(--p) / 1);\n",
    "}\n",
    ".monster-navbar.navbar-underline a.uk-active { position: relative; }\n",
    ".monster-navbar.navbar-underline a.uk-active::after {\n",
    "    content: '';\n",
    "    position: absolute;\n",
    "    left: 0;\n",
    "    bottom: -2px;\n",
    "    width: 100%;\n",
    "    height: 2px;\n",
    "    background: currentColor;\n",
    "    animation: slideIn 0.3s ease forwards;\n",
    "}\n",
    "@keyframes slideIn {\n",
    "    from { transform: scaleX(0); }\n",
    "    to { transform: scaleX(1); }\n",
    "}\n",
    "''')"
   ]
  },
  {
   "cell_type": "code",
   "execution_count": null,
   "metadata": {},
   "outputs": [],
   "source": [
    "#| export\n",
    "class Theme(Enum):\n",
    "    \"Selector to choose theme and get all headers needed for app.  Includes frankenui + tailwind + daisyui + highlight.js options\"\n",
    "    def _generate_next_value_(name, start, count, last_values): return name\n",
    "    slate = auto()\n",
    "    stone = auto()\n",
    "    gray = auto()\n",
    "    neutral = auto()\n",
    "    red = auto()\n",
    "    rose = auto()\n",
    "    orange = auto()\n",
    "    green = auto()\n",
    "    blue = auto()\n",
    "    yellow = auto()\n",
    "    violet = auto()\n",
    "    zinc = auto()\n",
    "\n",
    "    def _create_headers(self, urls, mode='auto', daisy=True, highlightjs=False, katex=True, radii=ThemeRadii.sm, shadows=ThemeShadows.sm, font=ThemeFont.sm):\n",
    "        \"Create header elements with given URLs\"\n",
    "        hdrs = [\n",
    "            fh.Link(rel=\"stylesheet\", href=urls['franken_css']),\n",
    "            fh.Script(type=\"module\", src=urls['franken_js_core']),\n",
    "            fh.Script(type=\"module\", src=urls['franken_icons']),\n",
    "            fh.Script(src=urls['tailwind']),\n",
    "            fh.Script(\"\"\"\n",
    "    tailwind.config = {\n",
    "        darkMode: 'selector',\n",
    "    }\n",
    "    \"\"\"),\n",
    "            _headers_theme(self.value, mode=mode, radii=radii, shadows=shadows, font=font),\n",
    "            scrollspy_style]\n",
    "\n",
    "        if daisy:\n",
    "            hdrs += [fh.Link(rel=\"stylesheet\", href=urls['daisyui']), daisy_styles]\n",
    "            \n",
    "        if highlightjs:\n",
    "            hdrs += [\n",
    "                fh.Script(src=urls['highlight_js']),\n",
    "                fh.Script(src=urls['highlight_python']),\n",
    "                fh.Link(rel=\"stylesheet\", href=urls['highlight_light_css'], id='hljs-light'),\n",
    "                fh.Link(rel=\"stylesheet\", href=urls['highlight_dark_css'], id='hljs-dark'),\n",
    "                fh.Script(src=urls['highlight_copy']),\n",
    "                fh.Link(rel=\"stylesheet\", href=urls['highlight_copy_css']),\n",
    "                fh.Script('''\n",
    "                    hljs.addPlugin(new CopyButtonPlugin());\n",
    "                    hljs.configure({\n",
    "                        cssSelector: 'pre code',\n",
    "                        languages: ['python'],\n",
    "                        ignoreUnescapedHTML: true\n",
    "                    });\n",
    "                    function updateTheme() {\n",
    "                        const isDark = document.documentElement.classList.contains('dark');\n",
    "                        document.getElementById('hljs-dark').disabled = !isDark;\n",
    "                        document.getElementById('hljs-light').disabled = isDark;\n",
    "                    }\n",
    "                    new MutationObserver(mutations =>\n",
    "                        mutations.forEach(m => m.target.tagName === 'HTML' &&\n",
    "                            m.attributeName === 'class' && updateTheme())\n",
    "                    ).observe(document.documentElement, { attributes: true });\n",
    "                    updateTheme();\n",
    "                    htmx.onLoad(hljs.highlightAll);\n",
    "                ''', type='module'),\n",
    "            ]\n",
    "\n",
    "        if katex:\n",
    "            hdrs += [\n",
    "                fh.Link(rel=\"stylesheet\",\n",
    "                        href=\"https://cdn.jsdelivr.net/npm/katex@0.16.21/dist/katex.min.css\"),\n",
    "                fh.Script(\"\"\"\n",
    "                import katex from 'https://cdn.jsdelivr.net/npm/katex@0.16.21/dist/katex.mjs';\n",
    "                import autoRender from 'https://cdn.jsdelivr.net/npm/katex@0.16.21/dist/contrib/auto-render.mjs';\n",
    "                const options = {\n",
    "                  delimiters: [\n",
    "                    {left: '$$', right: '$$', display: true},\n",
    "                    {left: '$', right: '$', display: false}\n",
    "                  ],\n",
    "                  ignoredClasses: ['nomath']\n",
    "                };\n",
    "\n",
    "                document.addEventListener('htmx:load', evt => {\n",
    "                  const element = evt.detail.elt || document.body;\n",
    "                  autoRender(element,options);\n",
    "                });\n",
    "                \"\"\",type=\"module\"),\n",
    "                ]\n",
    "        return hdrs\n",
    "\n",
    "    def headers(self, mode='auto', daisy=True, highlightjs=False, katex=True, radii=ThemeRadii.sm, shadows=ThemeShadows.sm, font=ThemeFont.sm ):\n",
    "        \"Create frankenui and tailwind cdns\"\n",
    "        return self._create_headers(HEADER_URLS, mode=mode, daisy=daisy, highlightjs=highlightjs, katex=katex, radii=radii, shadows=shadows, font=font)    \n",
    "    \n",
    "    def local_headers(self, mode='auto', static_dir='static', daisy=True, highlightjs=False, katex=True, radii='md', shadows='sm', font='sm'):\n",
    "        \"Create headers using local files downloaded from CDNs\"\n",
    "        Path(static_dir).mkdir(exist_ok=True)\n",
    "        local_urls = dict([_download_resource(url, static_dir) for url in HEADER_URLS.items()])\n",
    "        return self._create_headers(local_urls, mode=mode, daisy=daisy, highlightjs=highlightjs, katex=katex, radii=radii, shadows=shadows, font=font)"
   ]
  },
  {
   "cell_type": "code",
   "execution_count": null,
   "metadata": {},
   "outputs": [],
   "source": [
    "hdrs = Theme.red.headers()\n",
    "app = FastHTML(hdrs=hdrs)"
   ]
  },
  {
   "cell_type": "code",
   "execution_count": null,
   "metadata": {},
   "outputs": [],
   "source": [
    "app, rt = fast_app(hdrs=Theme.red.headers())\n",
    "Show = partial(HTMX, app=app)"
   ]
  },
  {
   "cell_type": "markdown",
   "metadata": {},
   "source": [
    "## export -"
   ]
  },
  {
   "cell_type": "code",
   "execution_count": null,
   "metadata": {},
   "outputs": [],
   "source": [
    "#| hide\n",
    "import nbdev; nbdev.nbdev_export()"
   ]
  },
  {
   "cell_type": "code",
   "execution_count": null,
   "metadata": {},
   "outputs": [],
   "source": []
  }
 ],
 "metadata": {
  "kernelspec": {
   "display_name": "Python 3 (ipykernel)",
   "language": "python",
   "name": "python3"
  },
  "language_info": {
   "codemirror_mode": {
    "name": "ipython",
    "version": 3
   },
   "file_extension": ".py",
   "mimetype": "text/x-python",
   "name": "python",
   "nbconvert_exporter": "python",
   "pygments_lexer": "ipython3",
   "version": "3.13.2"
  }
 },
 "nbformat": 4,
 "nbformat_minor": 4
}
