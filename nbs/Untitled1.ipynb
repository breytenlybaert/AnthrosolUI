{
 "cells": [
  {
   "cell_type": "code",
   "execution_count": 1,
   "id": "7d133b0c-153a-46ce-9f6f-c86bee2732c0",
   "metadata": {},
   "outputs": [
    {
     "name": "stdout",
     "output_type": "stream",
     "text": [
      "Requirement already satisfied: nbdev in /Users/breyten/Documents/anthrosolui/AnthrosolUI/venv/lib/python3.13/site-packages (2.3.34)\n",
      "Requirement already satisfied: packaging in /Users/breyten/Documents/anthrosolui/AnthrosolUI/venv/lib/python3.13/site-packages (from nbdev) (24.2)\n",
      "Requirement already satisfied: fastcore>=1.5.27 in /Users/breyten/Documents/anthrosolui/AnthrosolUI/venv/lib/python3.13/site-packages (from nbdev) (1.7.29)\n",
      "Requirement already satisfied: execnb>=0.1.4 in /Users/breyten/Documents/anthrosolui/AnthrosolUI/venv/lib/python3.13/site-packages (from nbdev) (0.1.11)\n",
      "Requirement already satisfied: astunparse in /Users/breyten/Documents/anthrosolui/AnthrosolUI/venv/lib/python3.13/site-packages (from nbdev) (1.6.3)\n",
      "Requirement already satisfied: ghapi>=1.0.3 in /Users/breyten/Documents/anthrosolui/AnthrosolUI/venv/lib/python3.13/site-packages (from nbdev) (1.0.6)\n",
      "Requirement already satisfied: watchdog in /Users/breyten/Documents/anthrosolui/AnthrosolUI/venv/lib/python3.13/site-packages (from nbdev) (6.0.0)\n",
      "Requirement already satisfied: asttokens in /Users/breyten/Documents/anthrosolui/AnthrosolUI/venv/lib/python3.13/site-packages (from nbdev) (3.0.0)\n",
      "Requirement already satisfied: setuptools in /Users/breyten/Documents/anthrosolui/AnthrosolUI/venv/lib/python3.13/site-packages (from nbdev) (75.8.2)\n",
      "Requirement already satisfied: PyYAML in /Users/breyten/Documents/anthrosolui/AnthrosolUI/venv/lib/python3.13/site-packages (from nbdev) (6.0.2)\n",
      "Requirement already satisfied: ipython in /Users/breyten/Documents/anthrosolui/AnthrosolUI/venv/lib/python3.13/site-packages (from execnb>=0.1.4->nbdev) (7.34.0)\n",
      "Requirement already satisfied: wheel<1.0,>=0.23.0 in /Users/breyten/Documents/anthrosolui/AnthrosolUI/venv/lib/python3.13/site-packages (from astunparse->nbdev) (0.45.1)\n",
      "Requirement already satisfied: six<2.0,>=1.6.1 in /Users/breyten/Documents/anthrosolui/AnthrosolUI/venv/lib/python3.13/site-packages (from astunparse->nbdev) (1.17.0)\n",
      "Requirement already satisfied: jedi>=0.16 in /Users/breyten/Documents/anthrosolui/AnthrosolUI/venv/lib/python3.13/site-packages (from ipython->execnb>=0.1.4->nbdev) (0.19.2)\n",
      "Requirement already satisfied: decorator in /Users/breyten/Documents/anthrosolui/AnthrosolUI/venv/lib/python3.13/site-packages (from ipython->execnb>=0.1.4->nbdev) (5.2.1)\n",
      "Requirement already satisfied: pickleshare in /Users/breyten/Documents/anthrosolui/AnthrosolUI/venv/lib/python3.13/site-packages (from ipython->execnb>=0.1.4->nbdev) (0.7.5)\n",
      "Requirement already satisfied: traitlets>=4.2 in /Users/breyten/Documents/anthrosolui/AnthrosolUI/venv/lib/python3.13/site-packages (from ipython->execnb>=0.1.4->nbdev) (5.14.3)\n",
      "Requirement already satisfied: prompt-toolkit!=3.0.0,!=3.0.1,<3.1.0,>=2.0.0 in /Users/breyten/Documents/anthrosolui/AnthrosolUI/venv/lib/python3.13/site-packages (from ipython->execnb>=0.1.4->nbdev) (3.0.50)\n",
      "Requirement already satisfied: pygments in /Users/breyten/Documents/anthrosolui/AnthrosolUI/venv/lib/python3.13/site-packages (from ipython->execnb>=0.1.4->nbdev) (2.19.1)\n",
      "Requirement already satisfied: backcall in /Users/breyten/Documents/anthrosolui/AnthrosolUI/venv/lib/python3.13/site-packages (from ipython->execnb>=0.1.4->nbdev) (0.2.0)\n",
      "Requirement already satisfied: matplotlib-inline in /Users/breyten/Documents/anthrosolui/AnthrosolUI/venv/lib/python3.13/site-packages (from ipython->execnb>=0.1.4->nbdev) (0.1.7)\n",
      "Requirement already satisfied: pexpect>4.3 in /Users/breyten/Documents/anthrosolui/AnthrosolUI/venv/lib/python3.13/site-packages (from ipython->execnb>=0.1.4->nbdev) (4.9.0)\n",
      "Requirement already satisfied: appnope in /Users/breyten/Documents/anthrosolui/AnthrosolUI/venv/lib/python3.13/site-packages (from ipython->execnb>=0.1.4->nbdev) (0.1.4)\n",
      "Requirement already satisfied: parso<0.9.0,>=0.8.4 in /Users/breyten/Documents/anthrosolui/AnthrosolUI/venv/lib/python3.13/site-packages (from jedi>=0.16->ipython->execnb>=0.1.4->nbdev) (0.8.4)\n",
      "Requirement already satisfied: ptyprocess>=0.5 in /Users/breyten/Documents/anthrosolui/AnthrosolUI/venv/lib/python3.13/site-packages (from pexpect>4.3->ipython->execnb>=0.1.4->nbdev) (0.7.0)\n",
      "Requirement already satisfied: wcwidth in /Users/breyten/Documents/anthrosolui/AnthrosolUI/venv/lib/python3.13/site-packages (from prompt-toolkit!=3.0.0,!=3.0.1,<3.1.0,>=2.0.0->ipython->execnb>=0.1.4->nbdev) (0.2.13)\n",
      "\n",
      "\u001b[1m[\u001b[0m\u001b[34;49mnotice\u001b[0m\u001b[1;39;49m]\u001b[0m\u001b[39;49m A new release of pip is available: \u001b[0m\u001b[31;49m25.0\u001b[0m\u001b[39;49m -> \u001b[0m\u001b[32;49m25.0.1\u001b[0m\n",
      "\u001b[1m[\u001b[0m\u001b[34;49mnotice\u001b[0m\u001b[1;39;49m]\u001b[0m\u001b[39;49m To update, run: \u001b[0m\u001b[32;49mpip install --upgrade pip\u001b[0m\n"
     ]
    }
   ],
   "source": [
    "!pip install nbdev"
   ]
  },
  {
   "cell_type": "code",
   "execution_count": 2,
   "id": "49fad91c-e482-4e06-b32c-0ef1b57cf06d",
   "metadata": {},
   "outputs": [
    {
     "name": "stdout",
     "output_type": "stream",
     "text": [
      "Requirement already satisfied: python-fasthtml in /Users/breyten/Documents/anthrosolui/AnthrosolUI/venv/lib/python3.13/site-packages (0.12.1)\n",
      "Requirement already satisfied: fastcore>=1.7.18 in /Users/breyten/Documents/anthrosolui/AnthrosolUI/venv/lib/python3.13/site-packages (from python-fasthtml) (1.7.29)\n",
      "Requirement already satisfied: python-dateutil in /Users/breyten/Documents/anthrosolui/AnthrosolUI/venv/lib/python3.13/site-packages (from python-fasthtml) (2.9.0.post0)\n",
      "Requirement already satisfied: starlette>0.33 in /Users/breyten/Documents/anthrosolui/AnthrosolUI/venv/lib/python3.13/site-packages (from python-fasthtml) (0.46.0)\n",
      "Requirement already satisfied: oauthlib in /Users/breyten/Documents/anthrosolui/AnthrosolUI/venv/lib/python3.13/site-packages (from python-fasthtml) (3.2.2)\n",
      "Requirement already satisfied: itsdangerous in /Users/breyten/Documents/anthrosolui/AnthrosolUI/venv/lib/python3.13/site-packages (from python-fasthtml) (2.2.0)\n",
      "Requirement already satisfied: uvicorn>=0.30 in /Users/breyten/Documents/anthrosolui/AnthrosolUI/venv/lib/python3.13/site-packages (from uvicorn[standard]>=0.30->python-fasthtml) (0.34.0)\n",
      "Requirement already satisfied: httpx in /Users/breyten/Documents/anthrosolui/AnthrosolUI/venv/lib/python3.13/site-packages (from python-fasthtml) (0.28.1)\n",
      "Requirement already satisfied: fastlite>=0.1.1 in /Users/breyten/Documents/anthrosolui/AnthrosolUI/venv/lib/python3.13/site-packages (from python-fasthtml) (0.1.2)\n",
      "Requirement already satisfied: python-multipart in /Users/breyten/Documents/anthrosolui/AnthrosolUI/venv/lib/python3.13/site-packages (from python-fasthtml) (0.0.20)\n",
      "Requirement already satisfied: beautifulsoup4 in /Users/breyten/Documents/anthrosolui/AnthrosolUI/venv/lib/python3.13/site-packages (from python-fasthtml) (4.13.3)\n",
      "Requirement already satisfied: packaging in /Users/breyten/Documents/anthrosolui/AnthrosolUI/venv/lib/python3.13/site-packages (from fastcore>=1.7.18->python-fasthtml) (24.2)\n",
      "Requirement already satisfied: apswutils>=0.0.2 in /Users/breyten/Documents/anthrosolui/AnthrosolUI/venv/lib/python3.13/site-packages (from fastlite>=0.1.1->python-fasthtml) (0.0.2)\n",
      "Requirement already satisfied: anyio<5,>=3.6.2 in /Users/breyten/Documents/anthrosolui/AnthrosolUI/venv/lib/python3.13/site-packages (from starlette>0.33->python-fasthtml) (4.8.0)\n",
      "Requirement already satisfied: click>=7.0 in /Users/breyten/Documents/anthrosolui/AnthrosolUI/venv/lib/python3.13/site-packages (from uvicorn>=0.30->uvicorn[standard]>=0.30->python-fasthtml) (8.1.8)\n",
      "Requirement already satisfied: h11>=0.8 in /Users/breyten/Documents/anthrosolui/AnthrosolUI/venv/lib/python3.13/site-packages (from uvicorn>=0.30->uvicorn[standard]>=0.30->python-fasthtml) (0.14.0)\n",
      "Requirement already satisfied: httptools>=0.6.3 in /Users/breyten/Documents/anthrosolui/AnthrosolUI/venv/lib/python3.13/site-packages (from uvicorn[standard]>=0.30->python-fasthtml) (0.6.4)\n",
      "Requirement already satisfied: python-dotenv>=0.13 in /Users/breyten/Documents/anthrosolui/AnthrosolUI/venv/lib/python3.13/site-packages (from uvicorn[standard]>=0.30->python-fasthtml) (1.0.1)\n",
      "Requirement already satisfied: pyyaml>=5.1 in /Users/breyten/Documents/anthrosolui/AnthrosolUI/venv/lib/python3.13/site-packages (from uvicorn[standard]>=0.30->python-fasthtml) (6.0.2)\n",
      "Requirement already satisfied: uvloop!=0.15.0,!=0.15.1,>=0.14.0 in /Users/breyten/Documents/anthrosolui/AnthrosolUI/venv/lib/python3.13/site-packages (from uvicorn[standard]>=0.30->python-fasthtml) (0.21.0)\n",
      "Requirement already satisfied: watchfiles>=0.13 in /Users/breyten/Documents/anthrosolui/AnthrosolUI/venv/lib/python3.13/site-packages (from uvicorn[standard]>=0.30->python-fasthtml) (1.0.4)\n",
      "Requirement already satisfied: websockets>=10.4 in /Users/breyten/Documents/anthrosolui/AnthrosolUI/venv/lib/python3.13/site-packages (from uvicorn[standard]>=0.30->python-fasthtml) (15.0)\n",
      "Requirement already satisfied: soupsieve>1.2 in /Users/breyten/Documents/anthrosolui/AnthrosolUI/venv/lib/python3.13/site-packages (from beautifulsoup4->python-fasthtml) (2.6)\n",
      "Requirement already satisfied: typing-extensions>=4.0.0 in /Users/breyten/Documents/anthrosolui/AnthrosolUI/venv/lib/python3.13/site-packages (from beautifulsoup4->python-fasthtml) (4.12.2)\n",
      "Requirement already satisfied: certifi in /Users/breyten/Documents/anthrosolui/AnthrosolUI/venv/lib/python3.13/site-packages (from httpx->python-fasthtml) (2025.1.31)\n",
      "Requirement already satisfied: httpcore==1.* in /Users/breyten/Documents/anthrosolui/AnthrosolUI/venv/lib/python3.13/site-packages (from httpx->python-fasthtml) (1.0.7)\n",
      "Requirement already satisfied: idna in /Users/breyten/Documents/anthrosolui/AnthrosolUI/venv/lib/python3.13/site-packages (from httpx->python-fasthtml) (3.10)\n",
      "Requirement already satisfied: six>=1.5 in /Users/breyten/Documents/anthrosolui/AnthrosolUI/venv/lib/python3.13/site-packages (from python-dateutil->python-fasthtml) (1.17.0)\n",
      "Requirement already satisfied: sniffio>=1.1 in /Users/breyten/Documents/anthrosolui/AnthrosolUI/venv/lib/python3.13/site-packages (from anyio<5,>=3.6.2->starlette>0.33->python-fasthtml) (1.3.1)\n",
      "Requirement already satisfied: apsw in /Users/breyten/Documents/anthrosolui/AnthrosolUI/venv/lib/python3.13/site-packages (from apswutils>=0.0.2->fastlite>=0.1.1->python-fasthtml) (3.49.1.0)\n",
      "\n",
      "\u001b[1m[\u001b[0m\u001b[34;49mnotice\u001b[0m\u001b[1;39;49m]\u001b[0m\u001b[39;49m A new release of pip is available: \u001b[0m\u001b[31;49m25.0\u001b[0m\u001b[39;49m -> \u001b[0m\u001b[32;49m25.0.1\u001b[0m\n",
      "\u001b[1m[\u001b[0m\u001b[34;49mnotice\u001b[0m\u001b[1;39;49m]\u001b[0m\u001b[39;49m To update, run: \u001b[0m\u001b[32;49mpip install --upgrade pip\u001b[0m\n"
     ]
    }
   ],
   "source": [
    "!pip install python-fasthtml"
   ]
  },
  {
   "cell_type": "code",
   "execution_count": null,
   "id": "8ed530f8-193d-47ef-960e-0844a18d0d1e",
   "metadata": {},
   "outputs": [],
   "source": []
  }
 ],
 "metadata": {
  "kernelspec": {
   "display_name": "Python 3 (ipykernel)",
   "language": "python",
   "name": "python3"
  },
  "language_info": {
   "codemirror_mode": {
    "name": "ipython",
    "version": 3
   },
   "file_extension": ".py",
   "mimetype": "text/x-python",
   "name": "python",
   "nbconvert_exporter": "python",
   "pygments_lexer": "ipython3",
   "version": "3.13.2"
  }
 },
 "nbformat": 4,
 "nbformat_minor": 5
}
